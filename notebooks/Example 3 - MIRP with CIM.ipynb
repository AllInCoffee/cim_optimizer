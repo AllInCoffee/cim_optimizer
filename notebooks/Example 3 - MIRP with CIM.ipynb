{
 "cells": [
  {
   "cell_type": "markdown",
   "metadata": {},
   "source": [
    "# Example 3: Maritime Inventory Routing Problems with the CIM"
   ]
  },
  {
   "cell_type": "markdown",
   "metadata": {},
   "source": [
    "We now introduce a new problem that takes advantage of the coherent Ising machine's ability to incorporate external fields: maritime inventory routing problems (MIRP). These problems contain an external field term, and are solved with our Amplitude Heterogeneity Correction Solver. In particular, we focus on a subset of the MIRP problems known as the vehicle routing problem with time windows (VRPTW). "
   ]
  },
  {
   "cell_type": "markdown",
   "metadata": {},
   "source": [
    "## Loading J and h matrices"
   ]
  },
  {
   "cell_type": "code",
   "execution_count": 1,
   "metadata": {},
   "outputs": [],
   "source": [
    "#Initialization and Imports\n",
    "import sys\n",
    "from pathlib import Path\n",
    "sys.path.append(str(Path.cwd()) + \"\\\\..\\\\\") # append lib folder to list of search directories \n",
    "\n",
    "from cim_optimizer.solve_Ising import *\n",
    "from cim_optimizer.CIM_helper import brute_force, load_adjMatrix_from_rudy\n",
    "\n",
    "%matplotlib inline"
   ]
  },
  {
   "cell_type": "markdown",
   "metadata": {},
   "source": [
    "## Loading N=308 Sequence-Based VRPTW Problem"
   ]
  },
  {
   "cell_type": "markdown",
   "metadata": {},
   "source": [
    "Since our MIRP examples are saved with modified start_index and preset_size, we have to overload the load_adjMatrix_from_rudy function provided in CIM_helper.py. These problems include an external field, so both J and h matrices have to be loaded from the rudy file."
   ]
  },
  {
   "cell_type": "code",
   "execution_count": 2,
   "metadata": {},
   "outputs": [],
   "source": [
    "inst_path_str_genVRPTW = str(Path.cwd()) + \"\\\\..\\\\instances\\\\VRPTW_TestSet\\\\\"\n",
    "\n",
    "# loading N=308 sequence-based MIRP problem\n",
    "J, h = load_adjMatrix_from_rudy(inst_path_str_genVRPTW + \"test_sb_308_f.rudy\", delimiter='\\t', index_start=1, preset_size=308)\n",
    "J = -J # flip sign to compute minima instead of maxima\n",
    "ground_state_energy = -2757.50\n",
    "time_span = 10000"
   ]
  },
  {
   "cell_type": "code",
   "execution_count": 9,
   "metadata": {},
   "outputs": [
    {
     "name": "stdout",
     "output_type": "stream",
     "text": [
      "External Field Detected\n",
      "Target Ising Energy: -2757.5.\n",
      "Best Ising Energy Found: -2738.5.\n",
      "Corresponding Spin Configuration: [-1. -1. -1. -1. -1. -1.  1. -1. -1.  1. -1. -1. -1. -1. -1. -1. -1. -1.\n",
      " -1. -1. -1. -1. -1. -1. -1. -1. -1. -1. -1. -1. -1. -1. -1. -1. -1. -1.\n",
      " -1. -1.  1. -1. -1. -1. -1. -1. -1. -1. -1. -1.  1. -1. -1. -1. -1. -1.\n",
      " -1. -1. -1. -1. -1.  1. -1. -1. -1. -1. -1. -1. -1. -1. -1. -1. -1. -1.\n",
      " -1. -1. -1. -1. -1. -1. -1. -1. -1. -1. -1. -1. -1. -1.  1. -1. -1. -1.\n",
      " -1. -1. -1. -1. -1. -1. -1. -1. -1. -1. -1.  1. -1. -1. -1. -1. -1. -1.\n",
      " -1. -1. -1. -1. -1.  1. -1. -1. -1. -1. -1. -1. -1. -1. -1. -1. -1. -1.\n",
      " -1. -1. -1. -1. -1. -1. -1. -1. -1. -1. -1. -1. -1. -1. -1. -1. -1. -1.\n",
      " -1. -1. -1. -1.  1. -1. -1. -1. -1. -1. -1. -1. -1.  1. -1. -1. -1. -1.\n",
      " -1. -1. -1. -1. -1. -1. -1. -1. -1. -1. -1. -1. -1. -1. -1. -1. -1. -1.\n",
      " -1.  1. -1.  1. -1.  1. -1. -1.  1. -1. -1. -1. -1. -1. -1. -1. -1. -1.\n",
      " -1. -1. -1. -1. -1. -1. -1.  1. -1. -1. -1. -1. -1. -1. -1.  1. -1. -1.\n",
      " -1. -1. -1. -1.  1. -1. -1. -1. -1. -1. -1.  1. -1. -1. -1. -1. -1. -1.\n",
      " -1. -1. -1. -1. -1. -1. -1. -1. -1.  1. -1.  1. -1. -1. -1. -1. -1. -1.\n",
      " -1. -1. -1. -1. -1. -1. -1. -1. -1. -1. -1. -1. -1. -1. -1. -1. -1. -1.\n",
      " -1. -1. -1. -1. -1. -1. -1. -1. -1. -1. -1. -1.  1. -1. -1. -1. -1. -1.\n",
      " -1. -1. -1. -1.  1. -1. -1. -1. -1. -1. -1. -1. -1. -1. -1. -1. -1. -1.\n",
      " -1. -1.].\n",
      "Time Elapsed: 8.581881761550903.\n",
      "Number of Runs Completed: 1.\n",
      "Success Probability: 0.0.\n"
     ]
    }
   ],
   "source": [
    "vrptw_test_run = Ising(J, h).solve(num_timesteps_per_run = time_span, target_energy = ground_state_energy)"
   ]
  },
  {
   "cell_type": "code",
   "execution_count": 10,
   "metadata": {},
   "outputs": [
    {
     "data": {
      "image/png": "[encoded data removed]",
      "text/plain": [
       "<Figure size 720x144 with 1 Axes>"
      ]
     },
     "metadata": {
      "needs_background": "light"
     },
     "output_type": "display_data"
    }
   ],
   "source": [
    "vrptw_test_run.result.plot_spin_trajectories(plot_type=\"spins\")"
   ]
  },
  {
   "cell_type": "markdown",
   "metadata": {},
   "source": [
    "Due to the complex nature of the maritime inventory routing problems (when converted to an Ising problem), the coherent Ising machine has difficulty achieving the global minimum. To achieve a lower energy, we utilize hyperparameter tuning. This does not significantly improve the performance of the CIM simulator, however, as the problem remains too complex to achieve low energy states."
   ]
  },
  {
   "cell_type": "code",
   "execution_count": 7,
   "metadata": {},
   "outputs": [
    {
     "name": "stdout",
     "output_type": "stream",
     "text": [
      "External Field Detected\n",
      "Tuned parameters: {'time_stop': 10000, 'batch_size': 1, 'nsub': 1, 'dt': 0.015625, 'beta': 0.05, 'delta': 0.25, 'lambd': 0.001, 'rho': 1.0, 'tau': 100, 'ahc_ext_nonlinearity': <built-in method tanh of type object at 0x00007FFEA122BF30>, 'custom_fb_schedule': None, 'custom_pump_schedule': None, 'device': device(type='cpu'), 'eps': 0.33088816729739495, 'F_h': 2.3086879882467275, 'pi': -0.1996645543905668, 'alpha': 1.103575440551821, 'noise': 0.0}.\n",
      "Minimum Energy Achieved without tuning: -2743.5\n"
     ]
    }
   ],
   "source": [
    "vrptw_test_run = Ising(J, h).solve(num_timesteps_per_run = time_span, target_energy = ground_state_energy, hyperparameters_autotune=True, suppress_statements=True)\n",
    "print(f\"Minimum Energy Achieved without tuning: {vrptw_test_run.result.lowest_energy}\")\n"
   ]
  }
 ],
 "metadata": {
  "kernelspec": {
   "display_name": "Python 3.10.2 64-bit",
   "language": "python",
   "name": "python3"
  },
  "language_info": {
   "codemirror_mode": {
    "name": "ipython",
    "version": 3
   },
   "file_extension": ".py",
   "mimetype": "text/x-python",
   "name": "python",
   "nbconvert_exporter": "python",
   "pygments_lexer": "ipython3",
   "version": "3.10.2"
  },
  "orig_nbformat": 4,
  "vscode": {
   "interpreter": {
    "hash": "e8543a852f2c053fa96e40636049c257ee9dfe0580045d9c365f792282b251d7"
   }
  }
 },
 "nbformat": 4,
 "nbformat_minor": 2
}
