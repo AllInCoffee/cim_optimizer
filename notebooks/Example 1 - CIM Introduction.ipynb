{
 "cells": [
  {
   "cell_type": "markdown",
   "metadata": {},
   "source": [
    "# Example 1: MAX-CUT with the CIM\n",
    "\n",
    "This notebook serves as an introduction to utilizing the coherent Ising machine for MAX-CUT problems. The key goals are as follows:\n",
    "\n",
    "* Brute force solving a simple MAX-CUT problem\n",
    "* Solving a MAX-CUT problem with our CIM simulator\n",
    "* Showcasing spin and energy evolutions of the CIM simulator.\n",
    "\n",
    "The physical realization of the coherent Ising machine is a computing system that consists of numerous coupled optical parametric oscillators with increasing gain that aims to find the minimum energy of some Ising problem. \n",
    "\n",
    "Due to physical constraints, we simulate our CIM in Python to model its performance. This means that we attempt to compute the minimum of the energy function \n",
    "\n",
    "$$ H = -\\sum_{1\\leq i \\leq j \\leq N} J_{ij}\\sigma_i \\sigma_j - \\sum_{1 \\leq i \\leq N} h_i \\sigma_i$$\n",
    "\n",
    "where we have an $N \\times N$ matrix for $J$ (which is our spin coupling matrix) and an $N$-dimensional vector $h$ (which serves as our external field terms), along with each spin $\\sigma_i \\in \\{ -1, 1\\}$.  This means to leverage the CIM on some optimization problem requires converting it into an Ising problem where the solution to the problem is correlated with the ground state energy of the problem in Ising form. \n",
    "\n",
    "We provide three implementations of the CIM: chaotic amplitude control (CAC), amplitude-heterogeneity correction (AHC), and amplitude-heterogeneity correction with external field terms (AHC). The first two solvers do not have an external field, while the latter requires an external field $h$.\n",
    "\n",
    "When the MAX-CUT problem is reformatted into an Ising problem, there is no external field, so either the CAC solver or the AHC no external field solver can be used. "
   ]
  },
  {
   "cell_type": "markdown",
   "metadata": {},
   "source": [
    "## Loading J matrix\n",
    "\n",
    "The coupling matrices and bias vectors are stored as Numpy arrays, which could be loaded in from delimited files via the helper function load_matrix_from_rudy(), or from npz files.\n"
   ]
  },
  {
   "cell_type": "code",
   "execution_count": 15,
   "metadata": {},
   "outputs": [],
   "source": [
    "#Initialization and Imports\n",
    "import sys\n",
    "from pathlib import Path\n",
    "sys.path.append(str(Path.cwd()) + \"\\\\..\\\\\") # append repo to list of search directories \n",
    "\n",
    "from cim_optimizer.solve_Ising import *\n",
    "from cim_optimizer.CIM_helper import brute_force\n",
    "\n",
    "%matplotlib inline"
   ]
  },
  {
   "cell_type": "code",
   "execution_count": 16,
   "metadata": {},
   "outputs": [],
   "source": [
    "instance_path_str_MAXCUT = str(Path.cwd()) + \"\\\\..\\\\instances\\\\MC_Instances_NPZ\\\\\"\n",
    "\n",
    "# 20 spin MAXCUT problem\n",
    "N = 20\n",
    "mc_id = 1 # select first example of 20 spin MAXCUT problem\n",
    "J = - np.load(instance_path_str_MAXCUT + f\"MC50_N={N}_{mc_id}.npz\") # load J matrix for 50% density MAX-CUT problem\n",
    "gamma = 0.010 # set gamma hyperparameter"
   ]
  },
  {
   "cell_type": "markdown",
   "metadata": {},
   "source": [
    "Note that we only modify the gamma hyperparameter since the default value for gamma (which is meant for MIRP problems) is too low for convergence towards the ground state energy."
   ]
  },
  {
   "cell_type": "markdown",
   "metadata": {},
   "source": [
    "## Brute force solving"
   ]
  },
  {
   "cell_type": "markdown",
   "metadata": {},
   "source": [
    "We test every single possible spin configuration $\\big($ i.e. $2^{20}$ configurations since each spin $\\sigma_i \\in \\{ -1, 1\\} \\big)$, and return a tuple containing an array of the minimum spin configuration and ground state energy (lowest energy achieved)."
   ]
  },
  {
   "cell_type": "code",
   "execution_count": 17,
   "metadata": {},
   "outputs": [
    {
     "name": "stdout",
     "output_type": "stream",
     "text": [
      "The spin configuration in the ground state is [-1 ... -1]\n",
      "The ground energy is -29.0\n"
     ]
    }
   ],
   "source": [
    "spins_ground, E_ground = brute_force(J)\n",
    "\n",
    "print(\"The spin configuration in the ground state is {}\".format(spins_ground))\n",
    "print(\"The ground energy is {}\".format(E_ground))"
   ]
  },
  {
   "cell_type": "markdown",
   "metadata": {},
   "source": [
    "## Solving with the coherent Ising machine"
   ]
  },
  {
   "cell_type": "markdown",
   "metadata": {},
   "source": [
    "We now apply the CAC CIM model to our J matrix for a single trial with default hyperparameters (with the exception of gamma). Our code returns certain pertinent metadata, including the target Ising energy, best Ising energy found and the corresponding spin configuration, time elapsed, number of trials, and success probability across the trials.\n",
    "\n",
    "Note that the default behaviour of `Ising().solve` is to attempt to optimize the hyperparameters initially, but we showcase the highly efficient single-run performance of the simulated coherent Ising machine. "
   ]
  },
  {
   "cell_type": "code",
   "execution_count": 18,
   "metadata": {},
   "outputs": [
    {
     "name": "stdout",
     "output_type": "stream",
     "text": [
      "No External Field Detected\n",
      "Target Ising Energy: -inf.\n",
      "Best Ising Energy Found: -29.0.\n",
      "Corresponding Spin Configuration: [1. ... 1.].\n",
      "Time Elapsed: 0.32407522201538086.\n",
      "Number of Runs Completed: 1.\n"
     ]
    }
   ],
   "source": [
    "test = Ising(J).solve(cac_gamma=gamma, hyperparameters_randomtune = False)"
   ]
  },
  {
   "cell_type": "markdown",
   "metadata": {},
   "source": [
    "## Metadata and internal dynamics of the CIM\n",
    "\n",
    "Various properties of the solver runs can be read from the attributes of the run result object, such as the time elapsed, best Ising energy reached by the CIM, as  well as trajectories of the spin amplitudes over time. Similarly, the evolution of the Ising energy corresponding to the spin amplitudes over time could be plotted by specifying the argument plot_type=\"energy\". \n",
    "\n",
    "If the solve() function was called with multiple runs, and specific runs among them need to be plotted, the argument trajectories_to_plot=[] takes in a list of the desired run indices.\n"
   ]
  },
  {
   "cell_type": "code",
   "execution_count": 19,
   "metadata": {},
   "outputs": [
    {
     "name": "stdout",
     "output_type": "stream",
     "text": [
      "Time Elapsed: 0.32407522201538086 seconds\n"
     ]
    }
   ],
   "source": [
    "print(\"Time Elapsed: {} seconds\".format(test.result.time))"
   ]
  },
  {
   "cell_type": "code",
   "execution_count": 20,
   "metadata": {},
   "outputs": [
    {
     "name": "stdout",
     "output_type": "stream",
     "text": [
      "Minimum Energy Achieved: -29.0\n"
     ]
    }
   ],
   "source": [
    "print(\"Minimum Energy Achieved: {}\".format(test.result.lowest_energy))"
   ]
  },
  {
   "cell_type": "code",
   "execution_count": 21,
   "metadata": {},
   "outputs": [
    {
     "name": "stdout",
     "output_type": "stream",
     "text": [
      "Energy Evolution: [[-17. ... -29.]]\n",
      "Spin Evolution: [[[2.1365203e-04 ... 9.9761528e-01]\n",
      "  ...\n",
      "  [9.9497673e-05 ... 9.9525070e-01]]]\n"
     ]
    }
   ],
   "source": [
    "np.set_printoptions(threshold=10, edgeitems=1)\n",
    "print(\"Energy Evolution: {}\".format(test.result.energy_evolution))\n",
    "print(\"Spin Evolution: {}\".format(test.result.spin_trajectories))"
   ]
  },
  {
   "cell_type": "markdown",
   "metadata": {},
   "source": [
    "The internal dynamics of both the spin amplitudes and energy evolution are included to showcase how our CIM evolves over discrete time steps."
   ]
  },
  {
   "cell_type": "code",
   "execution_count": 22,
   "metadata": {},
   "outputs": [
    {
     "data": {
      "image/png": "[encoded data removed]",
      "text/plain": [
       "<Figure size 720x144 with 1 Axes>"
      ]
     },
     "metadata": {
      "needs_background": "light"
     },
     "output_type": "display_data"
    }
   ],
   "source": [
    "test.result.plot_spin_trajectories(plot_type=\"spins\")"
   ]
  },
  {
   "cell_type": "code",
   "execution_count": 23,
   "metadata": {},
   "outputs": [
    {
     "data": {
      "image/png": "[encoded data removed]",
      "text/plain": [
       "<Figure size 720x144 with 1 Axes>"
      ]
     },
     "metadata": {
      "needs_background": "light"
     },
     "output_type": "display_data"
    }
   ],
   "source": [
    "test.result.plot_spin_trajectories(plot_type=\"energy\")"
   ]
  },
  {
   "cell_type": "markdown",
   "metadata": {},
   "source": [
    "## GPU Acceleration"
   ]
  },
  {
   "cell_type": "markdown",
   "metadata": {},
   "source": [
    "We now showcase our implementation with GPU acceleration using Pytorch and CUDA. While the speedup advantage is minor for smaller problems (such as an $N=20$ instance), the difference is more apparent at large spin counts. This is done by specifying the argument use_GPU=True, and requires a CUDA installation. By default, the argument use_GPU is set to False, and will run the solver in batches in parallel on the CPU."
   ]
  },
  {
   "cell_type": "code",
   "execution_count": 24,
   "metadata": {},
   "outputs": [
    {
     "name": "stdout",
     "output_type": "stream",
     "text": [
      "No External Field Detected\n",
      "Target Ising Energy: -inf.\n",
      "Best Ising Energy Found: -27.0.\n",
      "Corresponding Spin Configuration: [-1. ...  1.].\n",
      "Time Elapsed: 0.7007176876068115.\n",
      "Number of Runs Completed: 1.\n"
     ]
    }
   ],
   "source": [
    "test = Ising(J).solve(cac_gamma=gamma, use_GPU=True, hyperparameters_randomtune = False)"
   ]
  },
  {
   "cell_type": "markdown",
   "metadata": {},
   "source": [
    "To specify the number of solver runs to be executed in parallel on a given device, the argument num_parallel_runs (set to 1 by default) can be modified. "
   ]
  },
  {
   "cell_type": "code",
   "execution_count": 25,
   "metadata": {},
   "outputs": [
    {
     "name": "stdout",
     "output_type": "stream",
     "text": [
      "No External Field Detected\n",
      "Target Ising Energy: -inf.\n",
      "Best Ising Energy Found: -29.0.\n",
      "Corresponding Spin Configuration: [-1. ... -1.].\n",
      "Time Elapsed: 0.7409710884094238.\n",
      "Number of Runs Completed: 5.\n"
     ]
    }
   ],
   "source": [
    "test = Ising(J).solve(cac_gamma=gamma, use_GPU=True, num_runs=5, num_parallel_runs=5, hyperparameters_randomtune = False)"
   ]
  },
  {
   "cell_type": "markdown",
   "metadata": {},
   "source": [
    "## Custom Ramp Schedules"
   ]
  },
  {
   "cell_type": "markdown",
   "metadata": {},
   "source": [
    "The CIM-AHC, CIM-CAC solvers contain hyperparameters which could vary over the course of one solver run. To set an arbitrary feedback schedule, the arguments custom_feedback_schedule, custom_pump_schedule, and cac_amplitude_ramp can be specified with a specific anonymous function."
   ]
  },
  {
   "cell_type": "code",
   "execution_count": 26,
   "metadata": {},
   "outputs": [
    {
     "name": "stdout",
     "output_type": "stream",
     "text": [
      "No External Field Detected\n",
      "Target Ising Energy: -inf.\n",
      "Best Ising Energy Found: -29.0.\n",
      "Corresponding Spin Configuration: [-1. ... -1.].\n",
      "Time Elapsed: 1.629051923751831.\n",
      "Number of Runs Completed: 5.\n"
     ]
    }
   ],
   "source": [
    "timestep_count = 1000\n",
    "my_feedback_schedule = lambda x: np.sin(x/20)#torch.sin(torch.arange(timestep_count))\n",
    "test = Ising(J).solve(cac_gamma=gamma, num_runs=5, num_timesteps_per_run = timestep_count, custom_feedback_schedule=my_feedback_schedule, hyperparameters_randomtune = False)"
   ]
  },
  {
   "cell_type": "markdown",
   "metadata": {},
   "source": [
    "## Setting a Target Energy"
   ]
  },
  {
   "cell_type": "markdown",
   "metadata": {},
   "source": [
    "For benchmarking purposes, the ground-state Ising energy of inputted Ising problems can be specified to check whether the solver has reached it. This is modified via the target_energy argument."
   ]
  },
  {
   "cell_type": "code",
   "execution_count": 27,
   "metadata": {},
   "outputs": [
    {
     "name": "stdout",
     "output_type": "stream",
     "text": [
      "No External Field Detected\n",
      "Target Ising Energy: -29.0.\n",
      "Best Ising Energy Found: -29.0.\n",
      "Corresponding Spin Configuration: [-1. ... -1.].\n",
      "Time Elapsed: 8.247757911682129.\n",
      "Number of Runs Completed: 5.\n",
      "Success Probability: 1.0.\n"
     ]
    }
   ],
   "source": [
    "timestep_count = 5000\n",
    "ground_state_ising_energy = -29.0\n",
    "my_feedback_schedule = lambda x: np.sin(x/33)\n",
    "test = Ising(J).solve(cac_gamma=gamma, num_runs=5, target_energy=ground_state_ising_energy, num_timesteps_per_run = timestep_count, \n",
    "                      custom_feedback_schedule=my_feedback_schedule, hyperparameters_randomtune = False)"
   ]
  },
  {
   "cell_type": "markdown",
   "metadata": {},
   "source": [
    "## Time Calculations for an optical Coherent Ising Machine"
   ]
  },
  {
   "cell_type": "markdown",
   "metadata": {},
   "source": [
    "To translate this simulation into a realistic estimate of how much time this would take on a real FPGA-powered measurement-feedback Coherent Ising Machine, we multiply the number of matrix vector multiplications in our run by the roundtrip time reported in (https://doi.org/10.1126/science.aah5178)"
   ]
  },
  {
   "cell_type": "code",
   "execution_count": 28,
   "metadata": {},
   "outputs": [
    {
     "name": "stdout",
     "output_type": "stream",
     "text": [
      "Number of discrete steps (roundtrips): 5000\n",
      "Roundtrip time: 1.6e-06 second\n",
      "Total CIM runtime: 0.008 second(s)\n"
     ]
    }
   ],
   "source": [
    "print(f\"Number of discrete steps (roundtrips): {timestep_count}\")\n",
    "roundtrip_time = 1.6e-6 #Roundtrip time in seconds, as reported in (https://doi.org/10.1126/science.aah5178)\n",
    "print(f\"Roundtrip time: {roundtrip_time} second\")\n",
    "print(f\"Total CIM runtime: {timestep_count*roundtrip_time} second(s)\")\n"
   ]
  }
 ],
 "metadata": {
  "kernelspec": {
   "display_name": "Python 3.10.2 64-bit",
   "language": "python",
   "name": "python3"
  },
  "language_info": {
   "codemirror_mode": {
    "name": "ipython",
    "version": 3
   },
   "file_extension": ".py",
   "mimetype": "text/x-python",
   "name": "python",
   "nbconvert_exporter": "python",
   "pygments_lexer": "ipython3",
   "version": "3.10.2"
  },
  "orig_nbformat": 4,
  "vscode": {
   "interpreter": {
    "hash": "e8543a852f2c053fa96e40636049c257ee9dfe0580045d9c365f792282b251d7"
   }
  }
 },
 "nbformat": 4,
 "nbformat_minor": 2
}
